{
 "cells": [
  {
   "cell_type": "markdown",
   "id": "cb09387e",
   "metadata": {},
   "source": [
    "<div id=\"qr\" style=\"display:inline-block; align:left;vertical-align: middle;\" >\n",
    "  <h2>Fashion Forecasting tools</h2>\n",
    "    <h4>Understand the different consulting services that provide trend prediction</h4>\n",
    "</div>\n",
    "<div style=\"display:inline-block;vertical-align: middle;float:right;\">\n",
    "  <img style=\"float: right;\" src='https://cdn.freebiesupply.com/logos/large/2x/gap-logo-png-transparent.png' width='100'>\n",
    "</div>"
   ]
  },
  {
   "cell_type": "code",
   "execution_count": 1,
   "id": "e3a89624",
   "metadata": {},
   "outputs": [],
   "source": [
    "import pandas as pd\n",
    "import requests\n",
    "from bs4 import BeautifulSoup\n",
    "import time\n",
    "from selenium import webdriver\n",
    "from selenium.webdriver.firefox.options import Options\n",
    "from selenium.webdriver.common.keys import Keys\n",
    "from selenium.webdriver.common.by import By \n",
    "from bs4 import BeautifulSoup\n",
    "from selenium import webdriver"
   ]
  },
  {
   "cell_type": "code",
   "execution_count": 2,
   "id": "e3fefdf7",
   "metadata": {},
   "outputs": [],
   "source": [
    "firefox_options = Options()\n",
    "firefox_options.add_argument('--headless')\n",
    "firefox_options.add_argument('--no-sandbox')\n",
    "firefox_options.add_argument('--disable-dev-shm-usage')\n",
    "\n",
    "driver = webdriver.Firefox(options = firefox_options)\n",
    "\n",
    "fashion_forcasters = ['https://www.trendstop.com/', 'https://promostyl.com/accueil-mode/?lang=en/#formes']"
   ]
  },
  {
   "cell_type": "code",
   "execution_count": 3,
   "id": "e5ba2f95",
   "metadata": {},
   "outputs": [],
   "source": [
    "trendstop_customers = []\n",
    "promostyl_forecasters = []\n",
    "\n",
    "for i in range(len(fashion_forcasters)):\n",
    "    url = fashion_forcasters[i]\n",
    "    driver.get(url)\n",
    "    time.sleep(3)\n",
    "    html = driver.page_source\n",
    "    soup = BeautifulSoup(html)\n",
    "    if i == 0:\n",
    "        icons = soup.find_all('div', class_=\"et_pb_section et_pb_section_5 et_section_regular\")\n",
    "        customers = icons[0].find_all('span', class_ = 'et_pb_image_wrap')\n",
    "        for i in customers:\n",
    "            trendstop_customers.append(i.find_all('img')[0].get('title'))\n",
    "    else:\n",
    "        parameters = soup.find_all('span', style = \"font-family: 'Open Sans';\")\n",
    "        i = 0\n",
    "        for item in parameters:\n",
    "            if item.text == 'RETAIL':\n",
    "                ind = i\n",
    "            i += 1\n",
    "        parameters = parameters[:ind]\n",
    "        for item in parameters:\n",
    "            promostyl_forecasters.append(item.text)"
   ]
  },
  {
   "cell_type": "code",
   "execution_count": 4,
   "id": "83fce92a",
   "metadata": {},
   "outputs": [
    {
     "data": {
      "text/plain": [
       "['ZARA',\n",
       " 'LULULEMON',\n",
       " 'HUGO-BOSS',\n",
       " 'COS',\n",
       " 'PVH',\n",
       " 'EA',\n",
       " 'NILUU',\n",
       " 'SATTA',\n",
       " 'POLESTAR',\n",
       " 'SIGG',\n",
       " 'PRANA',\n",
       " 'TODS',\n",
       " 'TIMBERLAND',\n",
       " 'WOLVERINE',\n",
       " 'COLE-HAAN',\n",
       " 'STEVE-MADDEN',\n",
       " 'JANESSA-LEONE',\n",
       " 'JESSICA-SIMPSON',\n",
       " 'SAYLOR',\n",
       " 'HUTCH']"
      ]
     },
     "execution_count": 4,
     "metadata": {},
     "output_type": "execute_result"
    }
   ],
   "source": [
    "trendstop_customers"
   ]
  },
  {
   "cell_type": "code",
   "execution_count": 5,
   "id": "27d5622c",
   "metadata": {},
   "outputs": [
    {
     "data": {
      "text/plain": [
       "['INFLUENCES',\n",
       " 'COLORS',\n",
       " 'PRINTS & PATTERNS',\n",
       " 'INFLUENCES',\n",
       " 'COULEURS',\n",
       " 'PRINTS & PATTERNS',\n",
       " 'WOMEN',\n",
       " 'SPORT',\n",
       " 'KIDS',\n",
       " 'WOMEN',\n",
       " 'SPORT',\n",
       " 'KIDS',\n",
       " '- ANNUAL FORECAST',\n",
       " 'HOME',\n",
       " 'INDUSTRIAL DESIGN',\n",
       " 'RETAIL',\n",
       " 'HOME',\n",
       " 'INDUSTRIAL OBJECT']"
      ]
     },
     "execution_count": 5,
     "metadata": {},
     "output_type": "execute_result"
    }
   ],
   "source": [
    "promostyl_forecasters"
   ]
  },
  {
   "cell_type": "code",
   "execution_count": null,
   "id": "4b11d4bd",
   "metadata": {},
   "outputs": [],
   "source": []
  }
 ],
 "metadata": {
  "kernelspec": {
   "display_name": "Python 3 (ipykernel)",
   "language": "python",
   "name": "python3"
  },
  "language_info": {
   "codemirror_mode": {
    "name": "ipython",
    "version": 3
   },
   "file_extension": ".py",
   "mimetype": "text/x-python",
   "name": "python",
   "nbconvert_exporter": "python",
   "pygments_lexer": "ipython3",
   "version": "3.11.4"
  }
 },
 "nbformat": 4,
 "nbformat_minor": 5
}

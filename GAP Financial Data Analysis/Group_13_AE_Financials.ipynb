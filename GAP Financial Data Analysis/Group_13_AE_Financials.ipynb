{
 "cells": [
  {
   "cell_type": "markdown",
   "id": "1945c0c4",
   "metadata": {},
   "source": [
    "<div id=\"qr\" style=\"display:inline-block; align:left;vertical-align: middle;\" >\n",
    "  <h2>American Eagle Financial Reports - Competitor Analysis</h2>\n",
    "    <h4>Scrape the 10k report for American Eagle to get financial data</h4>\n",
    "</div>\n",
    "<div style=\"display:inline-block;vertical-align: middle;float:right;\">\n",
    "  <img style=\"float: right;\" src='https://cdn.freebiesupply.com/logos/large/2x/gap-logo-png-transparent.png' width='100'>\n",
    "</div>"
   ]
  },
  {
   "cell_type": "code",
   "execution_count": null,
   "id": "12a807ed",
   "metadata": {},
   "outputs": [],
   "source": [
    "from selenium import webdriver\n",
    "from selenium.webdriver.common.by import By\n",
    "from selenium.webdriver.support.ui import WebDriverWait\n",
    "from selenium.webdriver.support import expected_conditions as EC\n",
    "from selenium.webdriver.support.ui import Select  # Import Select class\n",
    "\n",
    "# Path to your Chrome web driver executable (replace with your driver's path)\n",
    "driver_path = 'C://Users//svats//Downloads//Web Data Analytics//Project'\n",
    "\n",
    "# URL of the web page\n",
    "url = 'https://investors.ae.com/financials-filings/default.aspx#sec'\n",
    "\n",
    "# List of years you want to download\n",
    "years_to_download = ['2023','2022', '2021', '2020','2019','2018','2017','2016','2015','2014','2013','2014','2012','2011','2010','2009','2008','2007','2008','2007','2008','2007','2006','2005','2004','2003','2002','2001','2000']  # Add more years as needed\n",
    "\n",
    "# Initialize the Chrome driver\n",
    "driver = webdriver.Chrome(driver_path)\n",
    "\n",
    "# Open the web page\n",
    "driver.get(url)\n",
    "\n",
    "try:\n",
    "    for year in years_to_download:\n",
    "        # Find and click the year dropdown using its ID\n",
    "        year_dropdown = driver.find_element(By.ID, 'SecYearSelect')\n",
    "        year_dropdown.click()\n",
    "\n",
    "        # Find and select the desired year from the dropdown\n",
    "        year_option = driver.find_element(By.XPATH, f'//option[text()=\"{year}\"]')\n",
    "        year_option.click()\n",
    "\n",
    "        # Find the filing type dropdown using its name attribute\n",
    "        filing_type_dropdown = Select(driver.find_element(By.NAME, 'ctl00$ctl07$ddFilingType'))\n",
    "\n",
    "        # Select \"Annual Filings\" from the filing type dropdown\n",
    "        filing_type_dropdown.select_by_visible_text('Annual Filings')\n",
    "\n",
    "        # Find and click the download icon (replace with the actual selector)\n",
    "        download_icon = driver.find_element(By.XPATH, '//a[contains(@href, \"excel Format Download\")]')\n",
    "        download_icon.click()\n",
    "\n",
    "finally:\n",
    "    # Close the browser\n",
    "    driver.quit()"
   ]
  }
 ],
 "metadata": {
  "kernelspec": {
   "display_name": "Python 3 (ipykernel)",
   "language": "python",
   "name": "python3"
  },
  "language_info": {
   "codemirror_mode": {
    "name": "ipython",
    "version": 3
   },
   "file_extension": ".py",
   "mimetype": "text/x-python",
   "name": "python",
   "nbconvert_exporter": "python",
   "pygments_lexer": "ipython3",
   "version": "3.11.4"
  }
 },
 "nbformat": 4,
 "nbformat_minor": 5
}
